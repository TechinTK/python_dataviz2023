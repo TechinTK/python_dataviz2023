{
  "nbformat": 4,
  "nbformat_minor": 0,
  "metadata": {
    "colab": {
      "provenance": [],
      "authorship_tag": "ABX9TyMn20IqvGr4BYd11XCR32we",
      "include_colab_link": true
    },
    "kernelspec": {
      "name": "python3",
      "display_name": "Python 3"
    },
    "language_info": {
      "name": "python"
    }
  },
  "cells": [
    {
      "cell_type": "markdown",
      "metadata": {
        "id": "view-in-github",
        "colab_type": "text"
      },
      "source": [
        "<a href=\"https://colab.research.google.com/github/TechinTK/python_dataviz2023/blob/main/HW2/2.5%E0%B8%A5%E0%B9%88%E0%B8%B2%E0%B8%AA%E0%B8%B8%E0%B8%94.ipynb\" target=\"_parent\"><img src=\"https://colab.research.google.com/assets/colab-badge.svg\" alt=\"Open In Colab\"/></a>"
      ]
    },
    {
      "cell_type": "markdown",
      "source": [
        "##HW2 สร้าง LOGO พรรคก้าวไกล"
      ],
      "metadata": {
        "id": "IQq6gPfxArJR"
      }
    },
    {
      "cell_type": "code",
      "execution_count": 230,
      "metadata": {
        "id": "JdUt_aTkAbfN"
      },
      "outputs": [],
      "source": [
        "import numpy as np"
      ]
    },
    {
      "cell_type": "code",
      "source": [
        "MFP=8*np.ones((14,24))\n",
        "MFP[:1,:]=1\n",
        "MFP[1:2,1:23]=1\n",
        "MFP[2:3,20:22]=1\n",
        "MFP[3:4,19:21]=1\n",
        "MFP[4:5,18:20]=1\n",
        "MFP[4:5,4:16]=1\n",
        "MFP[5:6,17:19]=1\n",
        "MFP[5:6,5:15]=1\n",
        "MFP[6:7,16:18]=1\n",
        "MFP[6:7,12:14]=1\n",
        "MFP[7:8,15:17]=1\n",
        "MFP[7:8,11:13]=1\n",
        "MFP[8:9,14:16]=1\n",
        "MFP[8:9,10:12]=1\n",
        "MFP[9:10,13:15]=1\n",
        "MFP[9:10,9:11]=1\n",
        "MFP[10:11,12:14]=1\n",
        "MFP[10:11,8:10]=1\n",
        "MFP[11:12,11:13]=1\n",
        "MFP[12:13,10:12]=1\n",
        "MFP[13:14,9:11]=1\n",
        "print(MFP)"
      ],
      "metadata": {
        "colab": {
          "base_uri": "https://localhost:8080/"
        },
        "id": "F6sBw0_IAw9O",
        "outputId": "11c55f6f-be8f-486e-d9fe-82dac65df049"
      },
      "execution_count": 232,
      "outputs": [
        {
          "output_type": "stream",
          "name": "stdout",
          "text": [
            "[[1. 1. 1. 1. 1. 1. 1. 1. 1. 1. 1. 1. 1. 1. 1. 1. 1. 1. 1. 1. 1. 1. 1. 1.]\n",
            " [8. 1. 1. 1. 1. 1. 1. 1. 1. 1. 1. 1. 1. 1. 1. 1. 1. 1. 1. 1. 1. 1. 1. 8.]\n",
            " [8. 8. 8. 8. 8. 8. 8. 8. 8. 8. 8. 8. 8. 8. 8. 8. 8. 8. 8. 8. 1. 1. 8. 8.]\n",
            " [8. 8. 8. 8. 8. 8. 8. 8. 8. 8. 8. 8. 8. 8. 8. 8. 8. 8. 8. 1. 1. 8. 8. 8.]\n",
            " [8. 8. 8. 8. 1. 1. 1. 1. 1. 1. 1. 1. 1. 1. 1. 1. 8. 8. 1. 1. 8. 8. 8. 8.]\n",
            " [8. 8. 8. 8. 8. 1. 1. 1. 1. 1. 1. 1. 1. 1. 1. 8. 8. 1. 1. 8. 8. 8. 8. 8.]\n",
            " [8. 8. 8. 8. 8. 8. 8. 8. 8. 8. 8. 8. 1. 1. 8. 8. 1. 1. 8. 8. 8. 8. 8. 8.]\n",
            " [8. 8. 8. 8. 8. 8. 8. 8. 8. 8. 8. 1. 1. 8. 8. 1. 1. 8. 8. 8. 8. 8. 8. 8.]\n",
            " [8. 8. 8. 8. 8. 8. 8. 8. 8. 8. 1. 1. 8. 8. 1. 1. 8. 8. 8. 8. 8. 8. 8. 8.]\n",
            " [8. 8. 8. 8. 8. 8. 8. 8. 8. 1. 1. 8. 8. 1. 1. 8. 8. 8. 8. 8. 8. 8. 8. 8.]\n",
            " [8. 8. 8. 8. 8. 8. 8. 8. 1. 1. 8. 8. 1. 1. 8. 8. 8. 8. 8. 8. 8. 8. 8. 8.]\n",
            " [8. 8. 8. 8. 8. 8. 8. 8. 8. 8. 8. 1. 1. 8. 8. 8. 8. 8. 8. 8. 8. 8. 8. 8.]\n",
            " [8. 8. 8. 8. 8. 8. 8. 8. 8. 8. 1. 1. 8. 8. 8. 8. 8. 8. 8. 8. 8. 8. 8. 8.]\n",
            " [8. 8. 8. 8. 8. 8. 8. 8. 8. 1. 1. 8. 8. 8. 8. 8. 8. 8. 8. 8. 8. 8. 8. 8.]]\n"
          ]
        }
      ]
    },
    {
      "cell_type": "markdown",
      "source": [
        "## HW2.5 เราสร้าง function print logo พรรค ก้าวไกล โดย input พื้นหลังได้"
      ],
      "metadata": {
        "id": "UlF5GwFHNcg-"
      }
    },
    {
      "cell_type": "code",
      "source": [
        "def create_mfp():\n",
        "    MFP = 8 * np.ones((14, 24), dtype=int)\n",
        "    MFP[:1, :] = 1\n",
        "    MFP[1:2, 1:23] = 1\n",
        "    MFP[2:3, 20:22] = 1\n",
        "    MFP[3:4, 19:21] = 1\n",
        "    MFP[4:5, 18:20] = 1\n",
        "    MFP[4:5, 4:16] = 1\n",
        "    MFP[5:6, 17:19] = 1\n",
        "    MFP[5:6, 5:15] = 1\n",
        "    MFP[6:7, 16:18] = 1\n",
        "    MFP[6:7, 12:14] = 1\n",
        "    MFP[7:8, 15:17] = 1\n",
        "    MFP[7:8, 11:13] = 1\n",
        "    MFP[8:9, 14:16] = 1\n",
        "    MFP[8:9, 10:12] = 1\n",
        "    MFP[9:10, 13:15] = 1\n",
        "    MFP[9:10, 9:11] = 1\n",
        "    MFP[10:11, 12:14] = 1\n",
        "    MFP[10:11, 8:10] = 1\n",
        "    MFP[11:12, 11:13] = 1\n",
        "    MFP[12:13, 10:12] = 1\n",
        "    MFP[13:14, 9:11]\n",
        "    return MFP\n",
        "\n",
        "def print_MFP(background=' ',Logo='1'):\n",
        "    for row in MFP:\n",
        "        for value in row:\n",
        "            if value == 8:\n",
        "                print(background, end=' ')\n",
        "            else:\n",
        "                print(Logo, end=' ')\n",
        "        print()\n",
        "\n",
        "background = '8'\n",
        "Logo = '1'\n",
        "print_MFP(background, Logo)"
      ],
      "metadata": {
        "id": "b5ZG-5JWhCi6",
        "colab": {
          "base_uri": "https://localhost:8080/"
        },
        "outputId": "aa3e033e-f620-4d34-99c4-2a0e4eda5a47"
      },
      "execution_count": 233,
      "outputs": [
        {
          "output_type": "stream",
          "name": "stdout",
          "text": [
            "1 1 1 1 1 1 1 1 1 1 1 1 1 1 1 1 1 1 1 1 1 1 1 1 \n",
            "8 1 1 1 1 1 1 1 1 1 1 1 1 1 1 1 1 1 1 1 1 1 1 8 \n",
            "8 8 8 8 8 8 8 8 8 8 8 8 8 8 8 8 8 8 8 8 1 1 8 8 \n",
            "8 8 8 8 8 8 8 8 8 8 8 8 8 8 8 8 8 8 8 1 1 8 8 8 \n",
            "8 8 8 8 1 1 1 1 1 1 1 1 1 1 1 1 8 8 1 1 8 8 8 8 \n",
            "8 8 8 8 8 1 1 1 1 1 1 1 1 1 1 8 8 1 1 8 8 8 8 8 \n",
            "8 8 8 8 8 8 8 8 8 8 8 8 1 1 8 8 1 1 8 8 8 8 8 8 \n",
            "8 8 8 8 8 8 8 8 8 8 8 1 1 8 8 1 1 8 8 8 8 8 8 8 \n",
            "8 8 8 8 8 8 8 8 8 8 1 1 8 8 1 1 8 8 8 8 8 8 8 8 \n",
            "8 8 8 8 8 8 8 8 8 1 1 8 8 1 1 8 8 8 8 8 8 8 8 8 \n",
            "8 8 8 8 8 8 8 8 1 1 8 8 1 1 8 8 8 8 8 8 8 8 8 8 \n",
            "8 8 8 8 8 8 8 8 8 8 8 1 1 8 8 8 8 8 8 8 8 8 8 8 \n",
            "8 8 8 8 8 8 8 8 8 8 1 1 8 8 8 8 8 8 8 8 8 8 8 8 \n",
            "8 8 8 8 8 8 8 8 8 1 1 8 8 8 8 8 8 8 8 8 8 8 8 8 \n"
          ]
        }
      ]
    }
  ]
}