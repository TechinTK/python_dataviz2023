{
  "nbformat": 4,
  "nbformat_minor": 0,
  "metadata": {
    "colab": {
      "name": "Data Structure.ipynb",
      "provenance": [],
      "include_colab_link": true
    },
    "kernelspec": {
      "name": "python3",
      "display_name": "Python 3"
    },
    "language_info": {
      "name": "python"
    }
  },
  "cells": [
    {
      "cell_type": "markdown",
      "metadata": {
        "id": "view-in-github",
        "colab_type": "text"
      },
      "source": [
        "<a href=\"https://colab.research.google.com/github/TechinTK/python_dataviz2023/blob/main/Data_Structure.ipynb\" target=\"_parent\"><img src=\"https://colab.research.google.com/assets/colab-badge.svg\" alt=\"Open In Colab\"/></a>"
      ]
    },
    {
      "cell_type": "markdown",
      "source": [
        "HW1\n",
        "\n",
        "คำนวณว่า ช่วงเวลาต่อไปนี้ ห่างกันกี่ ชั่วโมง กี่นาที กี่วินาที (print ออกมาให้สวยงาม)\n",
        "\n",
        "- 12:30:15 - 13:41:07\n",
        "- 09:11:50 - 21:30:15\n",
        "- 19:25:30 - 03:10:15"
      ],
      "metadata": {
        "id": "VmlyZcIz9gCD"
      }
    },
    {
      "cell_type": "markdown",
      "source": [
        "ข้อ 1"
      ],
      "metadata": {
        "id": "_owCcedn2iVD"
      }
    },
    {
      "cell_type": "code",
      "source": [
        "q1 = '12:30:15'\n",
        "q2 = '13:41:07'\n",
        "Q1 = q1.split(\":\")\n",
        "Q2 = q2.split(\":\")\n",
        "hours1 = int(Q1[0])*3600\n",
        "hours2 = int(Q2[0])*3600\n",
        "minutes1 = int(Q1[1])*60\n",
        "minutes2 = int(Q2[1])*60\n",
        "seconds1 = int(Q1[2])\n",
        "seconds2 = int(Q2[2])\n",
        "f1 =  hours1 + minutes1 + seconds1\n",
        "f2 = hours2 + minutes2 + seconds2\n",
        "diff = f2 - f1\n",
        "hours = int(diff/3600)\n",
        "min = diff%3600\n",
        "minn = int(min/60)\n",
        "seconds = min%60\n",
        "print(f'ช่วงเวลา 12:30:15 - 13:41:07 ห่างกัน  {hours} ชั่วโมง {minn} นาที {seconds} วินาที')"
      ],
      "metadata": {
        "id": "vL6w-viR2hLs",
        "outputId": "256466d3-06ab-4b86-cb29-ec268c24aaa7",
        "colab": {
          "base_uri": "https://localhost:8080/"
        }
      },
      "execution_count": 6,
      "outputs": [
        {
          "output_type": "stream",
          "name": "stdout",
          "text": [
            "ช่วงเวลา 12:30:15 - 13:41:07 ห่างกัน  1 ชั่วโมง 10 นาที 52 วินาที\n"
          ]
        }
      ]
    },
    {
      "cell_type": "markdown",
      "source": [
        "ข้อ 2 09:11:50 - 21:30:15"
      ],
      "metadata": {
        "id": "OXEgWD6n77dR"
      }
    },
    {
      "cell_type": "code",
      "source": [
        "q1 = '09:11:50'\n",
        "q2 = '21:30:15'\n",
        "Q1 = q1.split(\":\")\n",
        "Q2 = q2.split(\":\")\n",
        "hours1 = int(Q1[0])*3600\n",
        "hours2 = int(Q2[0])*3600\n",
        "minutes1 = int(Q1[1])*60\n",
        "minutes2 = int(Q2[1])*60\n",
        "seconds1 = int(Q1[2])\n",
        "seconds2 = int(Q2[2])\n",
        "f1 = hours1 + minutes1 + seconds1\n",
        "f2 = hours2 + minutes2 + seconds2\n",
        "diff = f2 - f1\n",
        "hours = int(diff/3600)\n",
        "min = diff%3600\n",
        "minn = int(min/60)\n",
        "seconds = min%60\n",
        "print(f'ช่วงเวลา 09:11:50 - 21:30:15 ห่างกัน  {hours} ชั่วโมง {minn} นาที {seconds} วินาที')"
      ],
      "metadata": {
        "id": "wNoFWboy7mZT",
        "outputId": "55bfa677-9e5e-4356-b1eb-e0757f33b063",
        "colab": {
          "base_uri": "https://localhost:8080/"
        }
      },
      "execution_count": 7,
      "outputs": [
        {
          "output_type": "stream",
          "name": "stdout",
          "text": [
            "ช่วงเวลา 09:11:50 - 21:30:15 ห่างกัน  12 ชั่วโมง 18 นาที 25 วินาที\n"
          ]
        }
      ]
    },
    {
      "cell_type": "markdown",
      "source": [
        "ข้อ 3 19:25:30 - 03:10:15"
      ],
      "metadata": {
        "id": "gdV6JRu_84Lp"
      }
    },
    {
      "cell_type": "code",
      "source": [
        "q1 = '19:25:30'\n",
        "q2 = '24:00:00'\n",
        "Q1 = q1.split(\":\")\n",
        "Q2 = q2.split(\":\")\n",
        "hours1 = int(Q1[0])*3600\n",
        "hours2 = int(Q2[0])*3600\n",
        "minutes1 = int(Q1[1])*60\n",
        "minutes2 = int(Q2[1])*60\n",
        "seconds1 = int(Q1[2])\n",
        "seconds2 = int(Q2[2])\n",
        "f1 = hours1 + minutes1 + seconds1\n",
        "f2 = hours2 + minutes2 + seconds2\n",
        "diff1 = f2 - f1\n",
        "q3 = '00:00:00'\n",
        "q4 = '03:10:15'\n",
        "Q3 = q3.split(\":\")\n",
        "Q4 = q4.split(\":\")\n",
        "hours3 = int(Q3[0])*3600\n",
        "hours4 = int(Q4[0])*3600\n",
        "minutes3 = int(Q3[1])*60\n",
        "minutes4 = int(Q4[1])*60\n",
        "seconds3 = int(Q3[2])\n",
        "seconds4 = int(Q4[2])\n",
        "f3 = hours3 + minutes3 + seconds3\n",
        "f4 = hours4 + minutes4 + seconds4\n",
        "diff2 = f4 - f3\n",
        "distance = diff1 + diff2\n",
        "hours = int(distance/3600)\n",
        "min = distance%3600\n",
        "minn = int(min/60)\n",
        "seconds = min%60\n",
        "print(f'ช่วงเวลา 19:25:30 - 03:10:15 ห่างกัน  {hours} ชั่วโมง {minn} นาที {seconds} วินาที')"
      ],
      "metadata": {
        "id": "RLEQW62u82_K",
        "outputId": "61e4ef9e-09a8-492a-d09a-47c65b2874da",
        "colab": {
          "base_uri": "https://localhost:8080/"
        }
      },
      "execution_count": 11,
      "outputs": [
        {
          "output_type": "stream",
          "name": "stdout",
          "text": [
            "ช่วงเวลา 19:25:30 - 03:10:15 ห่างกัน  7 ชั่วโมง 44 นาที 45 วินาที\n"
          ]
        }
      ]
    }
  ]
}